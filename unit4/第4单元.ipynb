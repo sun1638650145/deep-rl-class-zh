{
 "cells": [
  {
   "cell_type": "markdown",
   "id": "46486a9e",
   "metadata": {},
   "source": [
    "# 第4单元: 让我们学习Hugging Face的Unity ML-Agents 🤗"
   ]
  },
  {
   "cell_type": "markdown",
   "id": "306cd758",
   "metadata": {},
   "source": [
    "![cover.png](./assets/cover.png)"
   ]
  },
  {
   "cell_type": "markdown",
   "id": "e0172a97",
   "metadata": {},
   "source": [
    "在这份笔记中, 你将学习ML-Agents并使用其中一个预制的环境: Pyramids.\n",
    "\n",
    "在这个环境中, 我们将训练一个智能体. 在按下按钮生成金字塔后, 智能体导航到金字塔并将其撞倒, 然后移动顶部的金色砖块.\n",
    "\n",
    "❓如果你有任何问题, 请在discord频道#study-group-unit4发帖 👉 https://discord.gg/aYka4Yhff9\n",
    "\n",
    "🎮 环境:\n",
    "\n",
    "* [Pyramids](https://github.com/Unity-Technologies/ml-agents/blob/main/docs/Learning-Environment-Examples.md#pyramids)\n",
    "\n",
    "⬇️ 这是**你将在笔记结束时实现的目标**的示例. ⬇️"
   ]
  },
  {
   "cell_type": "markdown",
   "id": "ed38ec46",
   "metadata": {},
   "source": [
    "![example.gif](./assets/example.gif)"
   ]
  },
  {
   "cell_type": "markdown",
   "id": "2ac24507",
   "metadata": {},
   "source": [
    "💡 我们建议你使用Linux, 因为提供的环境压缩文件只提供了Linux版本, 如果你想你使用其他操作系统就需要自己编译. 同时由于依赖项的原因, 在Apple silicon上无法安装ml-agents."
   ]
  },
  {
   "cell_type": "markdown",
   "id": "d5862c5a",
   "metadata": {},
   "source": [
    "## 这份笔记来自深度强化学习课程\n",
    "![Deep Reinforcement Learning Course.jpg](./assets/DeepReinforcementLearningCourse.jpg)"
   ]
  },
  {
   "cell_type": "markdown",
   "id": "23e6409d",
   "metadata": {},
   "source": [
    "在这个免费课程中, 你将:\n",
    "\n",
    "* 📖 研究深度强化学习的**理论和实践.**\n",
    "* 🧑‍💻 学习**使用流行的深度强化学习库**, 例如Stable Baselines3, RL Baselines3 Zoo和RLlib.\n",
    "* 🤖️ **在独特的环境中训练智能体.**\n",
    "\n",
    "还有更多的课程 📚 内容 👉 https://github.com/huggingface/deep-rl-class\n",
    "\n",
    "保持进度的最佳方式是加入我们的Discord服务器与社区和我们进行交流. 👉🏻 https://discord.gg/aYka4Yhff9"
   ]
  },
  {
   "cell_type": "markdown",
   "id": "8e5a553e",
   "metadata": {},
   "source": [
    "## 先决条件 🏗\n",
    "\n",
    "在深入研究笔记之前, **你需要阅读并行教程** 👉 https://link.medium.com/KOpvPdyz4qb"
   ]
  },
  {
   "cell_type": "markdown",
   "id": "21edd3c9",
   "metadata": {},
   "source": [
    "### 第1步:克隆仓库并安装依赖项 🔽\n",
    "* 我们需要克隆仓库, **其中包含允许你将训练好的智能体到发布到HuggingFace Hub的库的实验版本**."
   ]
  },
  {
   "cell_type": "code",
   "execution_count": null,
   "id": "af1b9904",
   "metadata": {},
   "outputs": [],
   "source": [
    "# 克隆ml-agents仓库(可能需要几分钟).\n",
    "!git clone https://github.com/huggingface/ml-agents.git"
   ]
  },
  {
   "cell_type": "code",
   "execution_count": null,
   "id": "13ca75b2",
   "metadata": {},
   "outputs": [],
   "source": [
    "# 进入目录并安装包.\n",
    "%cd ml-agents/\n",
    "!pip install -e ./ml-agents-envs\n",
    "!pip install -e ./ml-agents"
   ]
  },
  {
   "cell_type": "markdown",
   "id": "b106ba67",
   "metadata": {},
   "source": [
    "### 第2步: 下载并移动环境压缩文件到 `./trained-envs-executables/linux/`\n",
    "* 我们的环境可执行文件位于一个zip文件中.\n",
    "* 我们需要下载并放置它到 `./trained-envs-executables/linux/`"
   ]
  },
  {
   "cell_type": "code",
   "execution_count": null,
   "id": "6b9ecd6a",
   "metadata": {},
   "outputs": [],
   "source": [
    "!mkdir -p ./trained-envs-executables/linux/"
   ]
  }
 ],
 "metadata": {
  "kernelspec": {
   "display_name": "Python 3 (ipykernel)",
   "language": "python",
   "name": "python3"
  },
  "language_info": {
   "codemirror_mode": {
    "name": "ipython",
    "version": 3
   },
   "file_extension": ".py",
   "mimetype": "text/x-python",
   "name": "python",
   "nbconvert_exporter": "python",
   "pygments_lexer": "ipython3",
   "version": "3.9.13"
  }
 },
 "nbformat": 4,
 "nbformat_minor": 5
}
